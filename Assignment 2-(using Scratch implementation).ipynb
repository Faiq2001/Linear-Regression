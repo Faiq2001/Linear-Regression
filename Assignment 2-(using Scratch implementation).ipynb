{
 "cells": [
  {
   "cell_type": "code",
   "execution_count": 102,
   "metadata": {},
   "outputs": [],
   "source": [
    "import numpy as np\n",
    "import pandas as pd\n",
    "import matplotlib.pyplot as plt"
   ]
  },
  {
   "cell_type": "code",
   "execution_count": 103,
   "metadata": {},
   "outputs": [],
   "source": [
    "dfx=pd.read_csv('Train.csv')\n",
    "\n",
    "x=dfx.iloc[:,:5].values\n",
    "y=dfx['target'].values\n"
   ]
  },
  {
   "cell_type": "code",
   "execution_count": 104,
   "metadata": {},
   "outputs": [],
   "source": [
    "def hypothesis(x,theta):\n",
    "    hx=0\n",
    "    for i in range(len(x)):\n",
    "        hx+=theta[i]*x[i]\n",
    "    hx+=theta[len(x)]\n",
    "    return hx"
   ]
  },
  {
   "cell_type": "code",
   "execution_count": 125,
   "metadata": {},
   "outputs": [],
   "source": [
    "def error(x,y,theta):\n",
    "    err=0\n",
    "    for i in range(x.shape[0]):\n",
    "        hx=(hypothesis(x[i,:],theta))\n",
    "        err+=(hx-y[i])**2\n",
    "    return err"
   ]
  },
  {
   "cell_type": "code",
   "execution_count": 126,
   "metadata": {},
   "outputs": [],
   "source": [
    "def gradient(x,y,theta):\n",
    "    grad=np.zeros((x.shape[1]+1,))\n",
    "    for i in range(x.shape[0]):\n",
    "        hx=(hypothesis(x[i,:],theta))\n",
    "        for j in range(x.shape[1]):\n",
    "            grad[j]+=(hx-y[i])*x[i,j]\n",
    "        grad[x.shape[1]]+=(hx-y[i])\n",
    "    return grad"
   ]
  },
  {
   "cell_type": "code",
   "execution_count": 131,
   "metadata": {},
   "outputs": [],
   "source": [
    "def GradientDescent(x,y):\n",
    "    theta=np.zeros((x.shape[1]+1,))\n",
    "    learning_rate=0.001\n",
    "    error_list=[]\n",
    "    theta_list=[]\n",
    "    max_iterator=100\n",
    "    itr=0\n",
    "    while itr<=max_iterator:\n",
    "        grad=gradient(x,y,theta)\n",
    "        err=error(x,y,theta)\n",
    "        error_list.append(err)\n",
    "        theta_list.append(theta)\n",
    "        \n",
    "        for i in range(x.shape[1]+1):\n",
    "            theta[i]-=learning_rate*grad[i]\n",
    "                  \n",
    "        itr+=1\n",
    "    return theta,theta_list,error_list"
   ]
  },
  {
   "cell_type": "code",
   "execution_count": 132,
   "metadata": {
    "scrolled": true
   },
   "outputs": [
    {
     "name": "stdout",
     "output_type": "stream",
     "text": [
      "[29.68187118 92.6624776   8.28062089 44.76773522  2.51916121  4.99096674]\n"
     ]
    }
   ],
   "source": [
    "final_theta,error_list,theta_list=GradientDescent(x,y)\n",
    "print(final_theta)"
   ]
  }
 ],
 "metadata": {
  "kernelspec": {
   "display_name": "Python 3",
   "language": "python",
   "name": "python3"
  },
  "language_info": {
   "codemirror_mode": {
    "name": "ipython",
    "version": 3
   },
   "file_extension": ".py",
   "mimetype": "text/x-python",
   "name": "python",
   "nbconvert_exporter": "python",
   "pygments_lexer": "ipython3",
   "version": "3.8.3"
  }
 },
 "nbformat": 4,
 "nbformat_minor": 4
}
